{
 "cells": [
  {
   "cell_type": "code",
   "execution_count": 1,
   "metadata": {},
   "outputs": [],
   "source": [
    "import requests # 웹 페이지 소스를 얻기 위한 패키지(기본 내장 패키지이다.)\n",
    "from bs4 import BeautifulSoup # 웹 페이지 소스를 얻기 위한 패키지, 더 간단히 얻을 수 있다는 장점이 있다고 한다.\n",
    "from datetime import datetime                                # (!pip install beautifulsoup4 으로 다운받을 수 있다.)\n",
    "import pandas as pd # 데이터를 처리하기 위한 가장 기본적인 패키지\n",
    "import time # 사이트를 불러올 때, 작업 지연시간을 지정해주기 위한 패키지이다. (사이트가 늦게 켜지면 에러가 발생하기 때문)\n",
    "import urllib.request #\n",
    "import json\n",
    "import re     \n",
    "import datetime as dt\n",
    "import os\n",
    "import glob\n",
    "from pandas import DataFrame\n",
    "from collections import Counter\n",
    "from konlpy.tag import Twitter\n",
    "from konlpy.tag import Kkma\n",
    "from konlpy.tag import Mecab\n",
    "import numpy as np\n",
    "import matplotlib as mpl\n",
    "from wordcloud import WordCloud\n",
    "#import matplotlib.pyplot as plt\n",
    "import matplotlib.pylab as plt\n",
    "import seaborn as sns\n",
    "import matplotlib.font_manager as fm\n",
    "font_name = fm.FontProperties(fname = 'C:\\\\Windows\\\\Fonts\\\\malgun.ttf').get_name()\n",
    "plt.rc('font', family = font_name)\n",
    "mpl.rcParams['axes.unicode_minus'] = False\n",
    "from tqdm import tqdm_notebook\n",
    "\n",
    "\n"
   ]
  },
  {
   "cell_type": "code",
   "execution_count": 89,
   "metadata": {},
   "outputs": [
    {
     "name": "stdout",
     "output_type": "stream",
     "text": [
      "-------------\n",
      "[]\n"
     ]
    }
   ],
   "source": [
    "file_list = [] #재귀 탐색\n",
    "for filename in glob.iglob('Beauty/**/comment.csv', recursive=True):\n",
    "    file_list.append(filename)\n",
    "    print(filename)\n",
    "    \n",
    "print(\"-------------\")\n",
    "print(file_list)\n"
   ]
  },
  {
   "cell_type": "code",
   "execution_count": 5,
   "metadata": {},
   "outputs": [],
   "source": [
    "youtube = pd.read_csv(file_list[0],index_col= 'name',encoding='cp949')"
   ]
  },
  {
   "cell_type": "code",
   "execution_count": 6,
   "metadata": {},
   "outputs": [],
   "source": [
    "for i in file_list:\n",
    "    youtube = pd.read_csv(i,index_col= 'name',encoding='cp949')\n",
    "    youtube.columns"
   ]
  },
  {
   "cell_type": "code",
   "execution_count": 11,
   "metadata": {},
   "outputs": [
    {
     "name": "stdout",
     "output_type": "stream",
     "text": [
      "-------------\n",
      "[]\n"
     ]
    }
   ],
   "source": [
    "file_list = [] #재귀 탐색\n",
    "for filename in glob.iglob('Beauty/**/comment_.csv', recursive=True):\n",
    "    file_list.append(filename)\n",
    "    print(filename)\n",
    "    \n",
    "print(\"-------------\")\n",
    "print(file_list)"
   ]
  },
  {
   "cell_type": "code",
   "execution_count": 18,
   "metadata": {},
   "outputs": [
    {
     "name": "stdout",
     "output_type": "stream",
     "text": [
      "유튜브 이름 : 개코의 오픈스튜디오\n"
     ]
    },
    {
     "ename": "NameError",
     "evalue": "name 'youtube_id' is not defined",
     "output_type": "error",
     "traceback": [
      "\u001b[1;31m---------------------------------------------------------------------------\u001b[0m",
      "\u001b[1;31mNameError\u001b[0m                                 Traceback (most recent call last)",
      "\u001b[1;32m<ipython-input-18-790d1eecdfb3>\u001b[0m in \u001b[0;36m<module>\u001b[1;34m\u001b[0m\n\u001b[0;32m     13\u001b[0m     \u001b[1;32melse\u001b[0m\u001b[1;33m:\u001b[0m\u001b[1;33m\u001b[0m\u001b[1;33m\u001b[0m\u001b[0m\n\u001b[0;32m     14\u001b[0m         \u001b[1;32mbreak\u001b[0m\u001b[1;33m\u001b[0m\u001b[1;33m\u001b[0m\u001b[0m\n\u001b[1;32m---> 15\u001b[1;33m \u001b[0mcomment_date\u001b[0m \u001b[1;33m=\u001b[0m \u001b[0mpd\u001b[0m\u001b[1;33m.\u001b[0m\u001b[0mDataFrame\u001b[0m\u001b[1;33m(\u001b[0m\u001b[1;33m{\u001b[0m\u001b[1;34m'닉네임'\u001b[0m\u001b[1;33m:\u001b[0m\u001b[0myoutube_id\u001b[0m\u001b[1;33m,\u001b[0m\u001b[1;34m'댓글'\u001b[0m\u001b[1;33m:\u001b[0m\u001b[0mcomment\u001b[0m\u001b[1;33m,\u001b[0m\u001b[1;34m'업로드일'\u001b[0m\u001b[1;33m:\u001b[0m\u001b[0mdate_co\u001b[0m\u001b[1;33m}\u001b[0m\u001b[1;33m)\u001b[0m\u001b[1;33m\u001b[0m\u001b[1;33m\u001b[0m\u001b[0m\n\u001b[0m",
      "\u001b[1;31mNameError\u001b[0m: name 'youtube_id' is not defined"
     ]
    }
   ],
   "source": [
    "youtube_name = input('유튜브 이름 : ')\n",
    "df = pd.read_csv('./Beauty/'+youtube_name+'/'+youtube_name+'_info.csv',\n",
    "                encoding='euc-kr')\n",
    "date = list(df['start_date'])\n",
    "upload_date = []\n",
    "date_co = []\n",
    "for i in range(0,len(date)):\n",
    "    \n",
    "    if date[i]>='2020. 4. 1':\n",
    "        raw = pd.read_csv('./Beauty/'+youtube_name+'/comment/'+youtube_name+'_comment_'+str(i+1)+'.csv')\n",
    "        upload_date.append(raw)\n",
    "        date_co.append(i)\n",
    "    else:\n",
    "        break\n",
    "comment_date = pd.DataFrame({'닉네임':youtube_id,'댓글':comment,'업로드일':date_co})"
   ]
  },
  {
   "cell_type": "code",
   "execution_count": 11,
   "metadata": {},
   "outputs": [
    {
     "data": {
      "text/plain": [
       "True"
      ]
     },
     "execution_count": 11,
     "metadata": {},
     "output_type": "execute_result"
    }
   ],
   "source": [
    "f= open('')"
   ]
  },
  {
   "cell_type": "code",
   "execution_count": null,
   "metadata": {},
   "outputs": [],
   "source": [
    "# youtube_channel = input(\"유투브 채널 이름 입력하시오.\")\n",
    "path =  str(youtube_name) + \"/comment\"\n",
    "path2 = str(youtube_name) + '/result.csv'\n",
    "arg_youtube = str(youtube_name) + \"*\"\n",
    "\n",
    "\n",
    "allFile_list = glob.glob(os.path.join(path,arg_youtube))\n",
    "print(allFile_list)\n",
    "allData = []\n",
    "\n",
    "if ~~~~ :\n",
    "    for file in allFile_list:\n",
    "    df = pd.read_csv(file)\n",
    "    allData.append(df)\n",
    "\n",
    "else:\n",
    "    pass\n",
    "dataCombine = pd.concat(allData,axis =0, ignore_index = True)\n",
    "\n",
    "dataCombine.to_csv(path2, index = False)\n",
    "cdPath = str(youtube_channel) + '/result.csv'"
   ]
  }
 ],
 "metadata": {
  "kernelspec": {
   "display_name": "Python 3",
   "language": "python",
   "name": "python3"
  },
  "language_info": {
   "codemirror_mode": {
    "name": "ipython",
    "version": 3
   },
   "file_extension": ".py",
   "mimetype": "text/x-python",
   "name": "python",
   "nbconvert_exporter": "python",
   "pygments_lexer": "ipython3",
   "version": "3.7.7"
  }
 },
 "nbformat": 4,
 "nbformat_minor": 4
}
