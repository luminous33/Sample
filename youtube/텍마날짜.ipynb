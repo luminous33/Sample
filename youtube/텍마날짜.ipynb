{
 "cells": [
  {
   "cell_type": "code",
   "execution_count": 2,
   "metadata": {},
   "outputs": [],
   "source": [
    "import glob\n",
    "import numpy as np\n",
    "import pandas as pd\n",
    "import matplotlib as mpl\n",
    "import matplotlib.pyplot as plt\n",
    "import seaborn as sns\n",
    "import matplotlib.font_manager as fm\n",
    "from tqdm import tqdm_notebook\n",
    "\n",
    "from PIL import Image\n",
    "\n",
    "import nltk\n",
    "\n",
    "font_name = fm.FontProperties(fname='C:/windows/Fonts/malgun.ttf').get_name()\n",
    "plt.rc('font',family =font_name)\n",
    "mpl.rcParams['axes.unicode_minus'] = False\n",
    "%matplotlib inline"
   ]
  },
  {
   "cell_type": "code",
   "execution_count": 95,
   "metadata": {},
   "outputs": [
    {
     "name": "stdout",
     "output_type": "stream",
     "text": [
      "유투브 채널 이름 입력하시오.RISABAE\n"
     ]
    }
   ],
   "source": [
    "# 인코딩 에러뜰때 실행\n",
    "youtube_channel = input(\"유투브 채널 이름 입력하시오.\")\n",
    "date = pd.read_csv('./Beauty/'+youtube_channel+'/'+youtube_channel+'_info.csv',encoding='cp949')"
   ]
  },
  {
   "cell_type": "code",
   "execution_count": 96,
   "metadata": {},
   "outputs": [],
   "source": [
    "date.to_csv('./Beauty/'+youtube_channel+'/'+youtube_channel+'_info.csv',encoding='utf-8-sig')"
   ]
  },
  {
   "cell_type": "code",
   "execution_count": 91,
   "metadata": {
    "scrolled": false
   },
   "outputs": [
    {
     "name": "stdout",
     "output_type": "stream",
     "text": [
      "2020. 5. 29.\n",
      "2020. 5. 22.\n",
      "2020. 5. 18.\n",
      "2020. 5. 14.\n",
      "2020. 5. 8.\n",
      "2020. 4. 29.\n",
      "2020. 4. 24.\n",
      "2020. 4. 18.\n",
      "2020. 4. 10.\n",
      "2020. 4. 2.\n",
      "0\n",
      "1\n",
      "2\n",
      "3\n",
      "4\n",
      "5\n",
      "6\n",
      "7\n",
      "8\n",
      "9\n",
      "0\n",
      "1\n",
      "2\n",
      "3\n",
      "4\n",
      "5\n",
      "6\n",
      "7\n",
      "8\n",
      "9\n"
     ]
    },
    {
     "name": "stderr",
     "output_type": "stream",
     "text": [
      "C:\\Users\\acorn\\anaconda3\\lib\\site-packages\\ipykernel_launcher.py:22: TqdmDeprecationWarning: This function will be removed in tqdm==5.0.0\n",
      "Please use `tqdm.notebook.tqdm` instead of `tqdm.tqdm_notebook`\n"
     ]
    },
    {
     "data": {
      "application/vnd.jupyter.widget-view+json": {
       "model_id": "36bd2cdb61864dbca144815af31672cf",
       "version_major": 2,
       "version_minor": 0
      },
      "text/plain": [
       "HBox(children=(FloatProgress(value=0.0, max=10.0), HTML(value='')))"
      ]
     },
     "metadata": {},
     "output_type": "display_data"
    },
    {
     "name": "stdout",
     "output_type": "stream",
     "text": [
      "\n"
     ]
    }
   ],
   "source": [
    "youtube_channel = input(\"유투브 채널 이름 입력하시오.\")\n",
    "date = pd.read_csv('./Beauty/'+youtube_channel+'/'+youtube_channel+'_info.csv')\n",
    "ccc = date[date['start_date'] >= '2020. 4. 1']['start_date']\n",
    "\n",
    "ccc\n",
    "for i in ccc:\n",
    "    print(i)\n",
    "# pd.read_csv('./Beauty/'+youtube_channel+'/comment/'+youtube_channel+'_comment_[i+1].csv')\n",
    "\n",
    "for i in range(len(ccc)):\n",
    "    print(i)\n",
    "#     a = pd.read_csv(('./Beauty/'+youtube_channel+'/comment/'+youtube_channel+'_comment_{}.csv').format(i+1))['youtube'].values\n",
    "#     np.append(comment_date, a)     up_date = pd.read_csv(('./Beauty/'+youtube_channel+'/comment/'+youtube_channel+'_comment_{}.csv').format(i+1))\n",
    "#     comment_date.append(up_date)\n",
    "comment_date = []\n",
    "for i in range(len(ccc)):\n",
    "     print(i)\n",
    "     a = pd.read_csv(('./Beauty/'+youtube_channel+'/comment/'+youtube_channel+'_comment_{}.csv').format(i+1))\n",
    "     comment_date.append(a)\n",
    "        \n",
    "comment_date[0]\n",
    "for i in tqdm_notebook(range(len(ccc))):\n",
    "    \n",
    "    df = comment_date[i]\n",
    "    you_id = df['youtube_id'].values\n",
    "    co_id = df['comment'].values\n",
    "    likes = df['like_num'].values\n",
    "    start_date = ccc[i]\n",
    "    comment_final = pd.DataFrame(data = {'닉네임':you_id,\n",
    "                                '댓글':co_id,\n",
    "                                '좋아요수':likes,\n",
    "                                '날짜':start_date})\n",
    "    comment_final.to_csv('./Beauty/'+youtube_channel+'/comment/'+ youtube_channel +'_comment_date{}.csv'.format(i+1),\n",
    "                        encoding='utf-8-sig',index=False)    \n"
   ]
  },
  {
   "cell_type": "code",
   "execution_count": null,
   "metadata": {},
   "outputs": [],
   "source": []
  }
 ],
 "metadata": {
  "kernelspec": {
   "display_name": "Python 3",
   "language": "python",
   "name": "python3"
  },
  "language_info": {
   "codemirror_mode": {
    "name": "ipython",
    "version": 3
   },
   "file_extension": ".py",
   "mimetype": "text/x-python",
   "name": "python",
   "nbconvert_exporter": "python",
   "pygments_lexer": "ipython3",
   "version": "3.7.7"
  }
 },
 "nbformat": 4,
 "nbformat_minor": 4
}
