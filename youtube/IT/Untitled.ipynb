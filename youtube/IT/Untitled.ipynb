{
 "cells": [
  {
   "cell_type": "code",
   "execution_count": 1,
   "metadata": {},
   "outputs": [],
   "source": [
    "import requests # 웹 페이지 소스를 얻기 위한 패키지(기본 내장 패키지이다.)\n",
    "from bs4 import BeautifulSoup # 웹 페이지 소스를 얻기 위한 패키지, 더 간단히 얻을 수 있다는 장점이 있다고 한다.\n",
    "from datetime import datetime                                # (!pip install beautifulsoup4 으로 다운받을 수 있다.)\n",
    "import pandas as pd # 데이터를 처리하기 위한 가장 기본적인 패키지\n",
    "import time # 사이트를 불러올 때, 작업 지연시간을 지정해주기 위한 패키지이다. (사이트가 늦게 켜지면 에러가 발생하기 때문)\n",
    "import urllib.request #\n",
    "import json\n",
    "import re     \n",
    "import os\n",
    "import glob\n",
    "from pandas import DataFrame\n",
    "from collections import Counter\n",
    "from konlpy.tag import Twitter\n",
    "from konlpy.tag import Kkma\n",
    "from konlpy.tag import Mecab\n",
    "import numpy as np\n",
    "import matplotlib as mpl\n",
    "from wordcloud import WordCloud\n",
    "#import matplotlib.pyplot as plt\n",
    "import matplotlib.pylab as plt\n",
    "import seaborn as sns\n",
    "import matplotlib.font_manager as fm\n",
    "font_name = fm.FontProperties(fname = 'C:\\\\Windows\\\\Fonts\\\\malgun.ttf').get_name()\n",
    "plt.rc('font', family = font_name)\n",
    "mpl.rcParams['axes.unicode_minus'] = False\n",
    "from tqdm import tqdm_notebook\n",
    "\n"
   ]
  },
  {
   "cell_type": "code",
   "execution_count": 6,
   "metadata": {},
   "outputs": [
    {
     "name": "stdout",
     "output_type": "stream",
     "text": [
      "dongjun_IT20 저장완료\n",
      "fart_IT7 저장완료\n",
      "HELLOUKY_IT18 저장완료\n",
      "itsok_IT13 저장완료\n",
      "ITSub잇섭_IT1 저장완료\n",
      "manneung_IT16 저장완료\n",
      "MRmr_IT3 저장완료\n",
      "ndolson_IT19 저장완료\n",
      "oh_IT6 저장완료\n",
      "room_IT8 저장완료\n",
      "seoulian_IT11 저장완료\n",
      "sinsung_IT15 저장완료\n",
      "Thelog_IT12 저장완료\n",
      "UNDERkg_IT2 저장완료\n",
      "yeungtae_IT17 저장완료\n",
      "cdm_IT14 저장완료\n"
     ]
    }
   ],
   "source": [
    "df = pd.read_csv('C:\\\\Users\\\\acorn\\\\kimjaesung\\\\analysis\\\\mid_test\\\\IT\\\\IT.csv',encoding='cp949')\n",
    "name_list = df['이름'].values # df['이름'] 컬럼안에 값들을 리스트 형식으로 불러온다 \n",
    "name_list\n",
    "\n",
    "for name in name_list:\n",
    "    df = pd.read_csv(f\"C:\\\\Users\\\\acorn\\\\kimjaesung\\\\analysis\\\\mid_test\\\\IT\\\\{name}\\\\{name}_info.csv\")# f 포메팅\n",
    "    \n",
    "     # column에 Unnames가 새로 생겨서 column 다시 지정해줌\n",
    "    df.columns = ['', 'name', 'thumbnail', 'view', 'previous_time',\n",
    "              'video_url', 'start_date', 'comment', 'likes_num', 'unlikes_num', 'time_duration']\n",
    "    \n",
    "    # start_date를 리스트로\n",
    "    #date_list = list(df[\"start_date\"])\n",
    "    \n",
    "    #4월 이후 정규식으로 거럴주기 .\n",
    "    p = re.compile(\"\\d{4}[.]\\s\\d+[.]\\s\\d+[.]\")\n",
    "    \n",
    "    #정규식 표현에 맞는 날짜 저장할 리스트\n",
    "    new_date= []\n",
    "    \n",
    "    #날짜 저장.\n",
    "    \n",
    "    for i in range(len(list(df[\"start_date\"]))):\n",
    "        new_date.append(re.findall(p, df[\"start_date\"][i]))\n",
    "\n",
    "    df.loc[:,'start_date'] = new_date\n",
    "    \n",
    "    #info 파일 덮어 쓰기 \n",
    "    df.to_csv(f\"{name}\\\\{name}_info.csv\",index = False , encoding = \"utf-8-sig\")\n",
    "    \n",
    "    \n",
    "    print(f\"{name} 저장완료\")\n",
    "\n",
    "    \n",
    "for name in name_list:\n",
    "    youtube_channel = name\n",
    "        \n",
    "    \n",
    "    \n",
    "    \n",
    "    "
   ]
  },
  {
   "cell_type": "markdown",
   "metadata": {},
   "source": [
    "\n",
    "## 불용어사전 불러오기 및 수정"
   ]
  },
  {
   "cell_type": "code",
   "execution_count": 8,
   "metadata": {},
   "outputs": [],
   "source": [
    "f = pd.read_csv(\"불용어사전(한글자).csv\", encoding=\"cp949\")\n",
    "stop_list =list(f)\n",
    "Unnamed= 'Unnamed: ' +str(len(stop_list)-1)\n",
    "stop_list.extend(['붸'])\n",
    "stop_words = set(stop_list)\n",
    "\n",
    "#stop_words.remove(Unnamed)\n",
    "\n",
    "# stop_words\n",
    "\n",
    "# 단어 새로 추가했을 때에 사용!!!\n",
    "f = open('불용어사전(한글자).csv','w')\n",
    "for i in stop_words:\n",
    "    f.write(i+',')\n",
    "f.close()\n"
   ]
  },
  {
   "cell_type": "code",
   "execution_count": null,
   "metadata": {},
   "outputs": [],
   "source": []
  }
 ],
 "metadata": {
  "kernelspec": {
   "display_name": "Python 3",
   "language": "python",
   "name": "python3"
  },
  "language_info": {
   "codemirror_mode": {
    "name": "ipython",
    "version": 3
   },
   "file_extension": ".py",
   "mimetype": "text/x-python",
   "name": "python",
   "nbconvert_exporter": "python",
   "pygments_lexer": "ipython3",
   "version": "3.7.4"
  }
 },
 "nbformat": 4,
 "nbformat_minor": 2
}
